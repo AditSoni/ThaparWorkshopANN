{
 "cells": [
  {
   "cell_type": "markdown",
   "metadata": {},
   "source": [
    "# Unsupervised learning"
   ]
  },
  {
   "cell_type": "markdown",
   "metadata": {},
   "source": [
    "### AutoEncoders  "
   ]
  },
  {
   "cell_type": "markdown",
   "metadata": {},
   "source": [
    "An autoencoder, is an artificial neural network used for learning efficient codings. \n",
    "\n",
    "The aim of an autoencoder is to learn a representation (encoding) for a set of data, typically for the purpose of dimensionality reduction. "
   ]
  },
  {
   "cell_type": "markdown",
   "metadata": {},
   "source": [
    "<img src=\"../imgs/autoencoder.png\" width=\"25%\">"
   ]
  },
  {
   "cell_type": "markdown",
   "metadata": {},
   "source": [
    "Unsupervised learning is a type of machine learning algorithm used to draw inferences from datasets consisting of input data without labeled responses. The most common unsupervised learning method is cluster analysis, which is used for exploratory data analysis to find hidden patterns or grouping in data."
   ]
  },
  {
   "cell_type": "markdown",
   "metadata": {},
   "source": [
    "### Reference\n",
    "\n",
    "Based on [https://blog.keras.io/building-autoencoders-in-keras.html](https://blog.keras.io/building-autoencoders-in-keras.html)"
   ]
  },
  {
   "cell_type": "markdown",
   "metadata": {},
   "source": [
    "## Introducing _Keras Functional API_"
   ]
  },
  {
   "cell_type": "markdown",
   "metadata": {},
   "source": [
    "The Keras functional API is the way to go for defining complex models, such as multi-output models, directed acyclic graphs, or models with shared layers."
   ]
  },
  {
   "cell_type": "markdown",
   "metadata": {},
   "source": [
    "All the Functional API relies on the fact that each `keras.Layer` object is a _callable_ object!\n",
    "\n",
    "See [8.2 Multi-Modal Networks](../8. Extra/8.2 Multi-Modal Networks.ipynb) for further details."
   ]
  },
  {
   "cell_type": "markdown",
   "metadata": {},
   "source": [
    "---"
   ]
  },
  {
   "cell_type": "code",
   "execution_count": 1,
   "metadata": {},
   "outputs": [
    {
     "name": "stderr",
     "output_type": "stream",
     "text": [
      "Using TensorFlow backend.\n"
     ]
    }
   ],
   "source": [
    "from keras.layers import Input, Dense\n",
    "from keras.models import Model\n",
    "\n",
    "from keras.datasets import mnist\n",
    "\n",
    "import numpy as np"
   ]
  },
  {
   "cell_type": "code",
   "execution_count": 2,
   "metadata": {
    "collapsed": true
   },
   "outputs": [],
   "source": [
    "# this is the size of our encoded representations\n",
    "encoding_dim = 32  # 32 floats -> compression of factor 24.5, assuming the input is 784 floats\n",
    "\n",
    "# this is our input placeholder\n",
    "input_img = Input(shape=(784,))\n",
    "# \"encoded\" is the encoded representation of the input\n",
    "encoded = Dense(encoding_dim, activation='relu')(input_img)\n",
    "\n",
    "# \"decoded\" is the lossy reconstruction of the input\n",
    "decoded = Dense(784, activation='sigmoid')(encoded)\n",
    "\n",
    "# this model maps an input to its reconstruction\n",
    "autoencoder = Model(input_img, decoded)"
   ]
  },
  {
   "cell_type": "code",
   "execution_count": 3,
   "metadata": {
    "collapsed": true
   },
   "outputs": [],
   "source": [
    "# this model maps an input to its encoded representation\n",
    "encoder = Model(input_img, encoded)"
   ]
  },
  {
   "cell_type": "code",
   "execution_count": 4,
   "metadata": {
    "collapsed": true
   },
   "outputs": [],
   "source": [
    "# create a placeholder for an encoded (32-dimensional) input\n",
    "encoded_input = Input(shape=(encoding_dim,))\n",
    "# retrieve the last layer of the autoencoder model\n",
    "decoder_layer = autoencoder.layers[-1]\n",
    "# create the decoder model\n",
    "decoder = Model(encoded_input, decoder_layer(encoded_input))"
   ]
  },
  {
   "cell_type": "code",
   "execution_count": 5,
   "metadata": {
    "collapsed": true
   },
   "outputs": [],
   "source": [
    "autoencoder.compile(optimizer='adadelta', loss='binary_crossentropy')"
   ]
  },
  {
   "cell_type": "code",
   "execution_count": 6,
   "metadata": {
    "collapsed": true,
    "scrolled": false
   },
   "outputs": [],
   "source": [
    "(x_train, _), (x_test, _) = mnist.load_data()\n",
    "\n",
    "x_train = x_train.astype('float32') / 255.\n",
    "x_test = x_test.astype('float32') / 255.\n",
    "x_train = x_train.reshape((len(x_train), np.prod(x_train.shape[1:])))\n",
    "x_test = x_test.reshape((len(x_test), np.prod(x_test.shape[1:])))"
   ]
  },
  {
   "cell_type": "code",
   "execution_count": 7,
   "metadata": {
    "collapsed": true
   },
   "outputs": [
    {
     "name": "stdout",
     "output_type": "stream",
     "text": [
      "Train on 60000 samples, validate on 10000 samples\n",
      "Epoch 1/50\n",
      "60000/60000 [==============================] - 1s - loss: 0.3830 - val_loss: 0.2731\n",
      "Epoch 2/50\n",
      "60000/60000 [==============================] - 1s - loss: 0.2664 - val_loss: 0.2561\n",
      "Epoch 3/50\n",
      "60000/60000 [==============================] - 1s - loss: 0.2463 - val_loss: 0.2336\n",
      "Epoch 4/50\n",
      "60000/60000 [==============================] - 1s - loss: 0.2258 - val_loss: 0.2156\n",
      "Epoch 5/50\n",
      "60000/60000 [==============================] - 1s - loss: 0.2105 - val_loss: 0.2030\n",
      "Epoch 6/50\n",
      "60000/60000 [==============================] - 1s - loss: 0.1997 - val_loss: 0.1936\n",
      "Epoch 7/50\n",
      "60000/60000 [==============================] - 1s - loss: 0.1914 - val_loss: 0.1863\n",
      "Epoch 8/50\n",
      "60000/60000 [==============================] - 1s - loss: 0.1846 - val_loss: 0.1800\n",
      "Epoch 9/50\n",
      "60000/60000 [==============================] - 1s - loss: 0.1789 - val_loss: 0.1749\n",
      "Epoch 10/50\n",
      "60000/60000 [==============================] - 1s - loss: 0.1740 - val_loss: 0.1702\n",
      "Epoch 11/50\n",
      "60000/60000 [==============================] - 1s - loss: 0.1697 - val_loss: 0.1660\n",
      "Epoch 12/50\n",
      "60000/60000 [==============================] - 1s - loss: 0.1657 - val_loss: 0.1622\n",
      "Epoch 13/50\n",
      "60000/60000 [==============================] - 1s - loss: 0.1620 - val_loss: 0.1587\n",
      "Epoch 14/50\n",
      "60000/60000 [==============================] - 1s - loss: 0.1586 - val_loss: 0.1554\n",
      "Epoch 15/50\n",
      "60000/60000 [==============================] - 1s - loss: 0.1554 - val_loss: 0.1524\n",
      "Epoch 16/50\n",
      "60000/60000 [==============================] - 1s - loss: 0.1525 - val_loss: 0.1495\n",
      "Epoch 17/50\n",
      "60000/60000 [==============================] - 1s - loss: 0.1497 - val_loss: 0.1468\n",
      "Epoch 18/50\n",
      "60000/60000 [==============================] - 1s - loss: 0.1470 - val_loss: 0.1441\n",
      "Epoch 19/50\n",
      "60000/60000 [==============================] - 1s - loss: 0.1444 - val_loss: 0.1415\n",
      "Epoch 20/50\n",
      "60000/60000 [==============================] - 1s - loss: 0.1419 - val_loss: 0.1391\n",
      "Epoch 21/50\n",
      "60000/60000 [==============================] - 1s - loss: 0.1395 - val_loss: 0.1367\n",
      "Epoch 22/50\n",
      "60000/60000 [==============================] - 1s - loss: 0.1371 - val_loss: 0.1345\n",
      "Epoch 23/50\n",
      "60000/60000 [==============================] - 1s - loss: 0.1349 - val_loss: 0.1323ss: 0.13\n",
      "Epoch 24/50\n",
      "60000/60000 [==============================] - 1s - loss: 0.1328 - val_loss: 0.1302\n",
      "Epoch 25/50\n",
      "60000/60000 [==============================] - 1s - loss: 0.1308 - val_loss: 0.1283\n",
      "Epoch 26/50\n",
      "60000/60000 [==============================] - 1s - loss: 0.1289 - val_loss: 0.1264\n",
      "Epoch 27/50\n",
      "60000/60000 [==============================] - 1s - loss: 0.1271 - val_loss: 0.1247\n",
      "Epoch 28/50\n",
      "60000/60000 [==============================] - 1s - loss: 0.1254 - val_loss: 0.1230\n",
      "Epoch 29/50\n",
      "60000/60000 [==============================] - 1s - loss: 0.1238 - val_loss: 0.1215\n",
      "Epoch 30/50\n",
      "60000/60000 [==============================] - 1s - loss: 0.1223 - val_loss: 0.1200\n",
      "Epoch 31/50\n",
      "60000/60000 [==============================] - 1s - loss: 0.1208 - val_loss: 0.1186\n",
      "Epoch 32/50\n",
      "60000/60000 [==============================] - 1s - loss: 0.1195 - val_loss: 0.1172\n",
      "Epoch 33/50\n",
      "60000/60000 [==============================] - 1s - loss: 0.1182 - val_loss: 0.1160\n",
      "Epoch 34/50\n",
      "60000/60000 [==============================] - 1s - loss: 0.1170 - val_loss: 0.1149\n",
      "Epoch 35/50\n",
      "60000/60000 [==============================] - 1s - loss: 0.1158 - val_loss: 0.1137\n",
      "Epoch 36/50\n",
      "60000/60000 [==============================] - 1s - loss: 0.1148 - val_loss: 0.1127\n",
      "Epoch 37/50\n",
      "60000/60000 [==============================] - 1s - loss: 0.1138 - val_loss: 0.1117\n",
      "Epoch 38/50\n",
      "60000/60000 [==============================] - 1s - loss: 0.1129 - val_loss: 0.1109\n",
      "Epoch 39/50\n",
      "60000/60000 [==============================] - 1s - loss: 0.1120 - val_loss: 0.1100\n",
      "Epoch 40/50\n",
      "60000/60000 [==============================] - 1s - loss: 0.1112 - val_loss: 0.1093\n",
      "Epoch 41/50\n",
      "60000/60000 [==============================] - 1s - loss: 0.1105 - val_loss: 0.1085\n",
      "Epoch 42/50\n",
      "60000/60000 [==============================] - 1s - loss: 0.1098 - val_loss: 0.1079\n",
      "Epoch 43/50\n",
      "60000/60000 [==============================] - 1s - loss: 0.1092 - val_loss: 0.1072\n",
      "Epoch 44/50\n",
      "60000/60000 [==============================] - 1s - loss: 0.1086 - val_loss: 0.1066\n",
      "Epoch 45/50\n",
      "60000/60000 [==============================] - 1s - loss: 0.1080 - val_loss: 0.1061\n",
      "Epoch 46/50\n",
      "60000/60000 [==============================] - 1s - loss: 0.1074 - val_loss: 0.1056\n",
      "Epoch 47/50\n",
      "60000/60000 [==============================] - 1s - loss: 0.1069 - val_loss: 0.1051\n",
      "Epoch 48/50\n",
      "60000/60000 [==============================] - 1s - loss: 0.1065 - val_loss: 0.1046\n",
      "Epoch 49/50\n",
      "60000/60000 [==============================] - 1s - loss: 0.1060 - val_loss: 0.1042\n",
      "Epoch 50/50\n",
      "60000/60000 [==============================] - 1s - loss: 0.1056 - val_loss: 0.1037\n"
     ]
    },
    {
     "data": {
      "text/plain": [
       "<keras.callbacks.History at 0x7fd1ce5140f0>"
      ]
     },
     "execution_count": 7,
     "metadata": {},
     "output_type": "execute_result"
    }
   ],
   "source": [
    "#note: x_train, x_train :) \n",
    "autoencoder.fit(x_train, x_train,\n",
    "                epochs=50,\n",
    "                batch_size=256,\n",
    "                shuffle=True,\n",
    "                validation_data=(x_test, x_test))"
   ]
  },
  {
   "cell_type": "markdown",
   "metadata": {},
   "source": [
    "#### Testing the Autoencoder "
   ]
  },
  {
   "cell_type": "code",
   "execution_count": 8,
   "metadata": {
    "collapsed": true
   },
   "outputs": [],
   "source": [
    "from matplotlib import pyplot as plt\n",
    "\n",
    "%matplotlib inline"
   ]
  },
  {
   "cell_type": "code",
   "execution_count": 9,
   "metadata": {
    "scrolled": true
   },
   "outputs": [
    {
     "data": {
      "image/png": "iVBORw0KGgoAAAANSUhEUgAABHEAAADqCAYAAAAlBtnSAAAABHNCSVQICAgIfAhkiAAAAAlwSFlz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\n",
      "text/plain": [
       "<matplotlib.figure.Figure at 0x7fd228387c18>"
      ]
     },
     "metadata": {},
     "output_type": "display_data"
    }
   ],
   "source": [
    "encoded_imgs = encoder.predict(x_test)\n",
    "decoded_imgs = decoder.predict(encoded_imgs)\n",
    "\n",
    "n = 10 \n",
    "plt.figure(figsize=(20, 4))\n",
    "for i in range(n):\n",
    "    # original\n",
    "    ax = plt.subplot(2, n, i + 1)\n",
    "    plt.imshow(x_test[i].reshape(28, 28))\n",
    "    plt.gray()\n",
    "    ax.get_xaxis().set_visible(False)\n",
    "    ax.get_yaxis().set_visible(False)\n",
    "\n",
    "    # reconstruction\n",
    "    ax = plt.subplot(2, n, i + 1 + n)\n",
    "    plt.imshow(decoded_imgs[i].reshape(28, 28))\n",
    "    plt.gray()\n",
    "    ax.get_xaxis().set_visible(False)\n",
    "    ax.get_yaxis().set_visible(False)\n",
    "plt.show()"
   ]
  },
  {
   "cell_type": "markdown",
   "metadata": {},
   "source": [
    "### Sample generation with Autoencoder "
   ]
  },
  {
   "cell_type": "code",
   "execution_count": 10,
   "metadata": {},
   "outputs": [
    {
     "data": {
      "image/png": "iVBORw0KGgoAAAANSUhEUgAABHEAAABzCAYAAAAfb55ZAAAABHNCSVQICAgIfAhkiAAAAAlwSFlz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\nhBBCWAL+D9JO4AB1op+tAAAAAElFTkSuQmCC\n",
      "text/plain": [
       "<matplotlib.figure.Figure at 0x7fd1ce6779e8>"
      ]
     },
     "metadata": {},
     "output_type": "display_data"
    }
   ],
   "source": [
    "encoded_imgs = np.random.rand(10,32)\n",
    "decoded_imgs = decoder.predict(encoded_imgs)\n",
    "\n",
    "n = 10 \n",
    "plt.figure(figsize=(20, 4))\n",
    "for i in range(n):\n",
    "    # generation\n",
    "    ax = plt.subplot(2, n, i + 1 + n)\n",
    "    plt.imshow(decoded_imgs[i].reshape(28, 28))\n",
    "    plt.gray()\n",
    "    ax.get_xaxis().set_visible(False)\n",
    "    ax.get_yaxis().set_visible(False)\n",
    "plt.show()"
   ]
  },
  {
   "cell_type": "markdown",
   "metadata": {},
   "source": [
    "---\n",
    "\n",
    "## Convolutional AutoEncoder"
   ]
  },
  {
   "cell_type": "markdown",
   "metadata": {},
   "source": [
    "Since our inputs are images, it makes sense to use convolutional neural networks (`convnets`) as encoders and decoders. \n",
    "\n",
    "In practical settings, autoencoders applied to images are always convolutional autoencoders --they simply perform much better.\n",
    "\n",
    "The encoder will consist in a stack of `Conv2D` and `MaxPooling2D` layers (max pooling being used for spatial down-sampling), while the decoder will consist in a stack of `Conv2D` and `UpSampling2D` layers.\n",
    "\n"
   ]
  },
  {
   "cell_type": "code",
   "execution_count": 20,
   "metadata": {
    "collapsed": true
   },
   "outputs": [],
   "source": [
    "from keras.layers import Input, Dense, Conv2D, MaxPooling2D, UpSampling2D\n",
    "from keras.models import Model\n",
    "from keras import backend as K\n",
    "\n",
    "input_img = Input(shape=(28, 28, 1))  # adapt this if using `channels_first` image data format\n",
    "\n",
    "x = Conv2D(16, (3, 3), activation='relu', padding='same')(input_img)\n",
    "x = MaxPooling2D((2, 2), padding='same')(x)\n",
    "x = Conv2D(8, (3, 3), activation='relu', padding='same')(x)\n",
    "x = MaxPooling2D((2, 2), padding='same')(x)\n",
    "x = Conv2D(8, (3, 3), activation='relu', padding='same')(x)\n",
    "encoded = MaxPooling2D((2, 2), padding='same')(x)\n",
    "\n",
    "# at this point the representation is (4, 4, 8) i.e. 128-dimensional\n",
    "\n",
    "x = Conv2D(8, (3, 3), activation='relu', padding='same')(encoded)\n",
    "x = UpSampling2D((2, 2))(x)\n",
    "x = Conv2D(8, (3, 3), activation='relu', padding='same')(x)\n",
    "x = UpSampling2D((2, 2))(x)\n",
    "x = Conv2D(16, (3, 3), activation='relu')(x)\n",
    "x = UpSampling2D((2, 2))(x)\n",
    "decoded = Conv2D(1, (3, 3), activation='sigmoid', padding='same')(x)\n",
    "\n",
    "conv_autoencoder = Model(input_img, decoded)\n",
    "conv_autoencoder.compile(optimizer='adadelta', loss='binary_crossentropy')"
   ]
  },
  {
   "cell_type": "code",
   "execution_count": 21,
   "metadata": {
    "collapsed": true
   },
   "outputs": [],
   "source": [
    "from keras import backend as K\n",
    "\n",
    "if K.image_data_format() == 'channels_last':\n",
    "    shape_ord = (28, 28, 1)\n",
    "else:\n",
    "    shape_ord = (1, 28, 28)\n",
    "    \n",
    "(x_train, _), (x_test, _) = mnist.load_data()\n",
    "\n",
    "x_train = x_train.astype('float32') / 255.\n",
    "x_test = x_test.astype('float32') / 255.\n",
    "\n",
    "x_train = np.reshape(x_train, ((x_train.shape[0],) + shape_ord))  \n",
    "x_test = np.reshape(x_test, ((x_test.shape[0],) + shape_ord)) "
   ]
  },
  {
   "cell_type": "code",
   "execution_count": 22,
   "metadata": {},
   "outputs": [
    {
     "data": {
      "text/plain": [
       "(60000, 28, 28, 1)"
      ]
     },
     "execution_count": 22,
     "metadata": {},
     "output_type": "execute_result"
    }
   ],
   "source": [
    "x_train.shape"
   ]
  },
  {
   "cell_type": "code",
   "execution_count": 23,
   "metadata": {
    "collapsed": true
   },
   "outputs": [],
   "source": [
    "from keras.callbacks import TensorBoard"
   ]
  },
  {
   "cell_type": "code",
   "execution_count": 25,
   "metadata": {
    "collapsed": true
   },
   "outputs": [
    {
     "name": "stdout",
     "output_type": "stream",
     "text": [
      "Train on 60000 samples, validate on 10000 samples\n",
      "Epoch 1/50\n",
      "60000/60000 [==============================] - 8s - loss: 0.2327 - val_loss: 0.1740\n",
      "Epoch 2/50\n",
      "60000/60000 [==============================] - 7s - loss: 0.1645 - val_loss: 0.1551\n",
      "Epoch 3/50\n",
      "60000/60000 [==============================] - 7s - loss: 0.1501 - val_loss: 0.1442\n",
      "Epoch 4/50\n",
      "60000/60000 [==============================] - 7s - loss: 0.1404 - val_loss: 0.1375\n",
      "Epoch 5/50\n",
      "60000/60000 [==============================] - 7s - loss: 0.1342 - val_loss: 0.1316\n",
      "Epoch 6/50\n",
      "60000/60000 [==============================] - 7s - loss: 0.1300 - val_loss: 0.1298\n",
      "Epoch 7/50\n",
      "60000/60000 [==============================] - 7s - loss: 0.1272 - val_loss: 0.1301\n",
      "Epoch 8/50\n",
      "60000/60000 [==============================] - 7s - loss: 0.1243 - val_loss: 0.1221\n",
      "Epoch 9/50\n",
      "60000/60000 [==============================] - 7s - loss: 0.1222 - val_loss: 0.1196\n",
      "Epoch 10/50\n",
      "60000/60000 [==============================] - 7s - loss: 0.1207 - val_loss: 0.1184\n",
      "Epoch 11/50\n",
      "60000/60000 [==============================] - 7s - loss: 0.1188 - val_loss: 0.1162\n",
      "Epoch 12/50\n",
      "60000/60000 [==============================] - 7s - loss: 0.1175 - val_loss: 0.1160\n",
      "Epoch 13/50\n",
      "60000/60000 [==============================] - 7s - loss: 0.1167 - val_loss: 0.1164\n",
      "Epoch 14/50\n",
      "60000/60000 [==============================] - 7s - loss: 0.1154 - val_loss: 0.1160\n",
      "Epoch 15/50\n",
      "60000/60000 [==============================] - 7s - loss: 0.1145 - val_loss: 0.1159\n",
      "Epoch 16/50\n",
      "60000/60000 [==============================] - 7s - loss: 0.1132 - val_loss: 0.1110\n",
      "Epoch 17/50\n",
      "60000/60000 [==============================] - 7s - loss: 0.1127 - val_loss: 0.1108\n",
      "Epoch 18/50\n",
      "60000/60000 [==============================] - 7s - loss: 0.1118 - val_loss: 0.1099\n",
      "Epoch 19/50\n",
      "60000/60000 [==============================] - 7s - loss: 0.1113 - val_loss: 0.1106\n",
      "Epoch 20/50\n",
      "60000/60000 [==============================] - 7s - loss: 0.1108 - val_loss: 0.1120\n",
      "Epoch 21/50\n",
      "60000/60000 [==============================] - 7s - loss: 0.1104 - val_loss: 0.1064\n",
      "Epoch 22/50\n",
      "60000/60000 [==============================] - 7s - loss: 0.1094 - val_loss: 0.1075\n",
      "Epoch 23/50\n",
      "60000/60000 [==============================] - 7s - loss: 0.1088 - val_loss: 0.1088\n",
      "Epoch 24/50\n",
      "60000/60000 [==============================] - 7s - loss: 0.1085 - val_loss: 0.1071\n",
      "Epoch 25/50\n",
      "60000/60000 [==============================] - 7s - loss: 0.1081 - val_loss: 0.1060\n",
      "Epoch 26/50\n",
      "60000/60000 [==============================] - 7s - loss: 0.1075 - val_loss: 0.1062\n",
      "Epoch 27/50\n",
      "60000/60000 [==============================] - 7s - loss: 0.1074 - val_loss: 0.1062\n",
      "Epoch 28/50\n",
      "60000/60000 [==============================] - 7s - loss: 0.1065 - val_loss: 0.1045\n",
      "Epoch 29/50\n",
      "60000/60000 [==============================] - 7s - loss: 0.1062 - val_loss: 0.1043\n",
      "Epoch 30/50\n",
      "60000/60000 [==============================] - 7s - loss: 0.1057 - val_loss: 0.1038\n",
      "Epoch 31/50\n",
      "60000/60000 [==============================] - 7s - loss: 0.1053 - val_loss: 0.1040\n",
      "Epoch 32/50\n",
      "60000/60000 [==============================] - 7s - loss: 0.1048 - val_loss: 0.1041\n",
      "Epoch 33/50\n",
      "60000/60000 [==============================] - 7s - loss: 0.1045 - val_loss: 0.1057\n",
      "Epoch 34/50\n",
      "60000/60000 [==============================] - 7s - loss: 0.1041 - val_loss: 0.1026\n",
      "Epoch 35/50\n",
      "60000/60000 [==============================] - 7s - loss: 0.1041 - val_loss: 0.1042\n",
      "Epoch 36/50\n",
      "60000/60000 [==============================] - 7s - loss: 0.1035 - val_loss: 0.1053\n",
      "Epoch 37/50\n",
      "60000/60000 [==============================] - 7s - loss: 0.1032 - val_loss: 0.1006\n",
      "Epoch 38/50\n",
      "60000/60000 [==============================] - 7s - loss: 0.1030 - val_loss: 0.1011\n",
      "Epoch 39/50\n",
      "60000/60000 [==============================] - 7s - loss: 0.1028 - val_loss: 0.1013\n",
      "Epoch 40/50\n",
      "60000/60000 [==============================] - 7s - loss: 0.1027 - val_loss: 0.1018\n",
      "Epoch 41/50\n",
      "60000/60000 [==============================] - 7s - loss: 0.1025 - val_loss: 0.1019\n",
      "Epoch 42/50\n",
      "60000/60000 [==============================] - 7s - loss: 0.1024 - val_loss: 0.1025\n",
      "Epoch 43/50\n",
      "60000/60000 [==============================] - 7s - loss: 0.1020 - val_loss: 0.1015\n",
      "Epoch 44/50\n",
      "60000/60000 [==============================] - 7s - loss: 0.1020 - val_loss: 0.1018\n",
      "Epoch 45/50\n",
      "60000/60000 [==============================] - 7s - loss: 0.1015 - val_loss: 0.1011\n",
      "Epoch 46/50\n",
      "60000/60000 [==============================] - 7s - loss: 0.1013 - val_loss: 0.0999\n",
      "Epoch 47/50\n",
      "60000/60000 [==============================] - 7s - loss: 0.1010 - val_loss: 0.0995\n",
      "Epoch 48/50\n",
      "60000/60000 [==============================] - 7s - loss: 0.1008 - val_loss: 0.0996\n",
      "Epoch 49/50\n",
      "60000/60000 [==============================] - 7s - loss: 0.1008 - val_loss: 0.0990\n",
      "Epoch 50/50\n",
      "60000/60000 [==============================] - 7s - loss: 0.1006 - val_loss: 0.0995\n"
     ]
    },
    {
     "data": {
      "text/plain": [
       "<keras.callbacks.History at 0x7fd1bebacfd0>"
      ]
     },
     "execution_count": 25,
     "metadata": {},
     "output_type": "execute_result"
    }
   ],
   "source": [
    "batch_size=128\n",
    "steps_per_epoch = np.int(np.floor(x_train.shape[0] / batch_size))\n",
    "conv_autoencoder.fit(x_train, x_train, epochs=50, batch_size=128,\n",
    "                     shuffle=True, validation_data=(x_test, x_test),\n",
    "                     callbacks=[TensorBoard(log_dir='./tf_autoencoder_logs')])"
   ]
  },
  {
   "cell_type": "code",
   "execution_count": 29,
   "metadata": {},
   "outputs": [
    {
     "data": {
      "image/png": "iVBORw0KGgoAAAANSUhEUgAABHEAAADqCAYAAAAlBtnSAAAABHNCSVQICAgIfAhkiAAAAAlwSFlz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\nAAAARAAPcQAAAAAAACLg/wGZkjnP2RPswwAAAABJRU5ErkJggg==\n",
      "text/plain": [
       "<matplotlib.figure.Figure at 0x7fd1beaf56a0>"
      ]
     },
     "metadata": {},
     "output_type": "display_data"
    }
   ],
   "source": [
    "decoded_imgs = conv_autoencoder.predict(x_test)\n",
    "\n",
    "n = 10\n",
    "plt.figure(figsize=(20, 4))\n",
    "for i in range(n):\n",
    "    # display original\n",
    "    ax = plt.subplot(2, n, i+1)\n",
    "    plt.imshow(x_test[i].reshape(28, 28))\n",
    "    plt.gray()\n",
    "    ax.get_xaxis().set_visible(False)\n",
    "    ax.get_yaxis().set_visible(False)\n",
    "\n",
    "    # display reconstruction\n",
    "    ax = plt.subplot(2, n, i + n + 1)\n",
    "    plt.imshow(decoded_imgs[i].reshape(28, 28))\n",
    "    plt.gray()\n",
    "    ax.get_xaxis().set_visible(False)\n",
    "    ax.get_yaxis().set_visible(False)\n",
    "plt.show()"
   ]
  },
  {
   "cell_type": "markdown",
   "metadata": {},
   "source": [
    "We coudl also have a look at the `128-`dimensional encoded middle representation"
   ]
  },
  {
   "cell_type": "code",
   "execution_count": 32,
   "metadata": {},
   "outputs": [
    {
     "data": {
      "image/png": "iVBORw0KGgoAAAANSUhEUgAABEkAAAHICAYAAACyMbSXAAAABHNCSVQICAgIfAhkiAAAAAlwSFlz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\n",
      "text/plain": [
       "<matplotlib.figure.Figure at 0x7fd1be13ffd0>"
      ]
     },
     "metadata": {},
     "output_type": "display_data"
    }
   ],
   "source": [
    "conv_encoder = Model(input_img, encoded)\n",
    "encoded_imgs = conv_encoder.predict(x_test)\n",
    "\n",
    "n = 10\n",
    "plt.figure(figsize=(20, 8))\n",
    "for i in range(n):\n",
    "    ax = plt.subplot(1, n, i+1)\n",
    "    plt.imshow(encoded_imgs[i].reshape(4, 4 * 8).T)\n",
    "    plt.gray()\n",
    "    ax.get_xaxis().set_visible(False)\n",
    "    ax.get_yaxis().set_visible(False)\n",
    "plt.show()"
   ]
  },
  {
   "cell_type": "markdown",
   "metadata": {},
   "source": [
    "## Pretraining encoders "
   ]
  },
  {
   "cell_type": "markdown",
   "metadata": {},
   "source": [
    "One of the powerful tools of auto-encoders is using the encoder to generate meaningful representation from the feature vectors."
   ]
  },
  {
   "cell_type": "code",
   "execution_count": null,
   "metadata": {
    "collapsed": true
   },
   "outputs": [],
   "source": [
    "# Use the encoder to pretrain a classifier "
   ]
  },
  {
   "cell_type": "markdown",
   "metadata": {},
   "source": [
    "---"
   ]
  },
  {
   "cell_type": "markdown",
   "metadata": {},
   "source": [
    "## Application to Image Denoising"
   ]
  },
  {
   "cell_type": "markdown",
   "metadata": {},
   "source": [
    "Let's put our convolutional autoencoder to work on an image denoising problem. It's simple: we will train the autoencoder to map noisy digits images to clean digits images.\n",
    "\n",
    "Here's how we will generate synthetic noisy digits: we just apply a gaussian noise matrix and clip the images between 0 and 1."
   ]
  },
  {
   "cell_type": "code",
   "execution_count": 1,
   "metadata": {},
   "outputs": [
    {
     "name": "stderr",
     "output_type": "stream",
     "text": [
      "Using TensorFlow backend.\n"
     ]
    }
   ],
   "source": [
    "from keras.datasets import mnist\n",
    "import numpy as np\n",
    "\n",
    "(x_train, _), (x_test, _) = mnist.load_data()\n",
    "\n",
    "x_train = x_train.astype('float32') / 255.\n",
    "x_test = x_test.astype('float32') / 255.\n",
    "x_train = np.reshape(x_train, (len(x_train), 28, 28, 1))  # adapt this if using `channels_first` image data format\n",
    "x_test = np.reshape(x_test, (len(x_test), 28, 28, 1))  # adapt this if using `channels_first` image data format\n",
    "\n",
    "noise_factor = 0.5\n",
    "x_train_noisy = x_train + noise_factor * np.random.normal(loc=0.0, scale=1.0, size=x_train.shape) \n",
    "x_test_noisy = x_test + noise_factor * np.random.normal(loc=0.0, scale=1.0, size=x_test.shape) \n",
    "\n",
    "x_train_noisy = np.clip(x_train_noisy, 0., 1.)\n",
    "x_test_noisy = np.clip(x_test_noisy, 0., 1.)"
   ]
  },
  {
   "cell_type": "markdown",
   "metadata": {},
   "source": [
    "Here's how the noisy digits look like:"
   ]
  },
  {
   "cell_type": "code",
   "execution_count": 5,
   "metadata": {},
   "outputs": [
    {
     "data": {
      "image/png": "iVBORw0KGgoAAAANSUhEUgAABHEAAABzCAYAAAAfb55ZAAAABHNCSVQICAgIfAhkiAAAAAlwSFlz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\n",
      "text/plain": [
       "<matplotlib.figure.Figure at 0x7fb45b508630>"
      ]
     },
     "metadata": {},
     "output_type": "display_data"
    }
   ],
   "source": [
    "n = 10\n",
    "plt.figure(figsize=(20, 2))\n",
    "for i in range(n):\n",
    "    ax = plt.subplot(1, n, i+1)\n",
    "    plt.imshow(x_test_noisy[i].reshape(28, 28))\n",
    "    plt.gray()\n",
    "    ax.get_xaxis().set_visible(False)\n",
    "    ax.get_yaxis().set_visible(False)\n",
    "plt.show()"
   ]
  },
  {
   "cell_type": "markdown",
   "metadata": {},
   "source": [
    "### Question\n",
    "\n",
    "If you squint you can still recognize them, but barely. \n",
    "\n",
    "**Can our autoencoder learn to recover the original digits? Let's find out.**"
   ]
  },
  {
   "cell_type": "markdown",
   "metadata": {},
   "source": [
    "Compared to the previous convolutional autoencoder, in order to improve the quality of the reconstructed, we'll use a slightly different model with more filters per layer:"
   ]
  },
  {
   "cell_type": "code",
   "execution_count": 1,
   "metadata": {},
   "outputs": [
    {
     "name": "stderr",
     "output_type": "stream",
     "text": [
      "Using TensorFlow backend.\n"
     ]
    }
   ],
   "source": [
    "from keras.layers import Input, Dense, Conv2D, MaxPooling2D, UpSampling2D\n",
    "from keras.models import Model\n",
    "\n",
    "from keras.callbacks import TensorBoard"
   ]
  },
  {
   "cell_type": "code",
   "execution_count": 10,
   "metadata": {
    "collapsed": true
   },
   "outputs": [],
   "source": [
    "input_img = Input(shape=(28, 28, 1))  # adapt this if using `channels_first` image data format\n",
    "\n",
    "x = Conv2D(32, (3, 3), activation='relu', padding='same')(input_img)\n",
    "x = MaxPooling2D((2, 2), padding='same')(x)\n",
    "x = Conv2D(32, (3, 3), activation='relu', padding='same')(x)\n",
    "encoded = MaxPooling2D((2, 2), padding='same')(x)\n",
    "\n",
    "# at this point the representation is (7, 7, 32)\n",
    "\n",
    "x = Conv2D(32, (3, 3), activation='relu', padding='same')(encoded)\n",
    "x = UpSampling2D((2, 2))(x)\n",
    "x = Conv2D(32, (3, 3), activation='relu', padding='same')(x)\n",
    "x = UpSampling2D((2, 2))(x)\n",
    "decoded = Conv2D(1, (3, 3), activation='sigmoid', padding='same')(x)\n",
    "\n",
    "autoencoder = Model(input_img, decoded)\n",
    "autoencoder.compile(optimizer='adadelta', loss='binary_crossentropy')"
   ]
  },
  {
   "cell_type": "markdown",
   "metadata": {},
   "source": [
    "Let's train the AutoEncoder for `100` epochs"
   ]
  },
  {
   "cell_type": "code",
   "execution_count": 13,
   "metadata": {
    "collapsed": true
   },
   "outputs": [
    {
     "name": "stdout",
     "output_type": "stream",
     "text": [
      "Train on 60000 samples, validate on 10000 samples\n",
      "Epoch 1/100\n",
      "60000/60000 [==============================] - 9s - loss: 0.1901 - val_loss: 0.1255\n",
      "Epoch 2/100\n",
      "60000/60000 [==============================] - 8s - loss: 0.1214 - val_loss: 0.1142\n",
      "Epoch 3/100\n",
      "60000/60000 [==============================] - 8s - loss: 0.1135 - val_loss: 0.1085\n",
      "Epoch 4/100\n",
      "60000/60000 [==============================] - 8s - loss: 0.1094 - val_loss: 0.1074\n",
      "Epoch 5/100\n",
      "60000/60000 [==============================] - 8s - loss: 0.1071 - val_loss: 0.1052\n",
      "Epoch 6/100\n",
      "60000/60000 [==============================] - 8s - loss: 0.1053 - val_loss: 0.1046\n",
      "Epoch 7/100\n",
      "60000/60000 [==============================] - 8s - loss: 0.1040 - val_loss: 0.1020\n",
      "Epoch 8/100\n",
      "60000/60000 [==============================] - 8s - loss: 0.1031 - val_loss: 0.1028\n",
      "Epoch 9/100\n",
      "60000/60000 [==============================] - 8s - loss: 0.1023 - val_loss: 0.1009\n",
      "Epoch 10/100\n",
      "60000/60000 [==============================] - 8s - loss: 0.1017 - val_loss: 0.1005\n",
      "Epoch 11/100\n",
      "60000/60000 [==============================] - 8s - loss: 0.1009 - val_loss: 0.1003\n",
      "Epoch 12/100\n",
      "60000/60000 [==============================] - 8s - loss: 0.1007 - val_loss: 0.1010\n",
      "Epoch 13/100\n",
      "60000/60000 [==============================] - 8s - loss: 0.1002 - val_loss: 0.0989\n",
      "Epoch 14/100\n",
      "60000/60000 [==============================] - 8s - loss: 0.1000 - val_loss: 0.0986\n",
      "Epoch 15/100\n",
      "60000/60000 [==============================] - 8s - loss: 0.0998 - val_loss: 0.0983\n",
      "Epoch 16/100\n",
      "60000/60000 [==============================] - 8s - loss: 0.0993 - val_loss: 0.0983\n",
      "Epoch 17/100\n",
      "60000/60000 [==============================] - 8s - loss: 0.0991 - val_loss: 0.0979\n",
      "Epoch 18/100\n",
      "60000/60000 [==============================] - 8s - loss: 0.0988 - val_loss: 0.0988\n",
      "Epoch 19/100\n",
      "60000/60000 [==============================] - 8s - loss: 0.0986 - val_loss: 0.0976\n",
      "Epoch 20/100\n",
      "60000/60000 [==============================] - 8s - loss: 0.0984 - val_loss: 0.0987\n",
      "Epoch 21/100\n",
      "60000/60000 [==============================] - 8s - loss: 0.0983 - val_loss: 0.0973\n",
      "Epoch 22/100\n",
      "60000/60000 [==============================] - 8s - loss: 0.0981 - val_loss: 0.0971\n",
      "Epoch 23/100\n",
      "60000/60000 [==============================] - 8s - loss: 0.0979 - val_loss: 0.0978\n",
      "Epoch 24/100\n",
      "60000/60000 [==============================] - 8s - loss: 0.0977 - val_loss: 0.0968\n",
      "Epoch 25/100\n",
      "60000/60000 [==============================] - 8s - loss: 0.0975 - val_loss: 0.0976\n",
      "Epoch 26/100\n",
      "60000/60000 [==============================] - 8s - loss: 0.0974 - val_loss: 0.0963\n",
      "Epoch 27/100\n",
      "60000/60000 [==============================] - 8s - loss: 0.0973 - val_loss: 0.0963\n",
      "Epoch 28/100\n",
      "60000/60000 [==============================] - 8s - loss: 0.0972 - val_loss: 0.0964\n",
      "Epoch 29/100\n",
      "60000/60000 [==============================] - 8s - loss: 0.0970 - val_loss: 0.0961\n",
      "Epoch 30/100\n",
      "60000/60000 [==============================] - 8s - loss: 0.0970 - val_loss: 0.0968\n",
      "Epoch 31/100\n",
      "60000/60000 [==============================] - 8s - loss: 0.0969 - val_loss: 0.0959\n",
      "Epoch 32/100\n",
      "60000/60000 [==============================] - 8s - loss: 0.0968 - val_loss: 0.0959\n",
      "Epoch 33/100\n",
      "60000/60000 [==============================] - 8s - loss: 0.0967 - val_loss: 0.0957\n",
      "Epoch 34/100\n",
      "60000/60000 [==============================] - 8s - loss: 0.0966 - val_loss: 0.0958\n",
      "Epoch 35/100\n",
      "60000/60000 [==============================] - 8s - loss: 0.0965 - val_loss: 0.0956\n",
      "Epoch 36/100\n",
      "60000/60000 [==============================] - 8s - loss: 0.0965 - val_loss: 0.0959\n",
      "Epoch 37/100\n",
      "60000/60000 [==============================] - 8s - loss: 0.0964 - val_loss: 0.0963\n",
      "Epoch 38/100\n",
      "60000/60000 [==============================] - 8s - loss: 0.0963 - val_loss: 0.0960\n",
      "Epoch 39/100\n",
      "60000/60000 [==============================] - 8s - loss: 0.0963 - val_loss: 0.0963\n",
      "Epoch 40/100\n",
      "60000/60000 [==============================] - 8s - loss: 0.0962 - val_loss: 0.0954\n",
      "Epoch 41/100\n",
      "60000/60000 [==============================] - 8s - loss: 0.0961 - val_loss: 0.0955\n",
      "Epoch 42/100\n",
      "60000/60000 [==============================] - 8s - loss: 0.0960 - val_loss: 0.0953\n",
      "Epoch 43/100\n",
      "60000/60000 [==============================] - 8s - loss: 0.0960 - val_loss: 0.0952\n",
      "Epoch 44/100\n",
      "60000/60000 [==============================] - 8s - loss: 0.0960 - val_loss: 0.0951\n",
      "Epoch 45/100\n",
      "60000/60000 [==============================] - 8s - loss: 0.0959 - val_loss: 0.0951\n",
      "Epoch 46/100\n",
      "60000/60000 [==============================] - 8s - loss: 0.0958 - val_loss: 0.0953\n",
      "Epoch 47/100\n",
      "60000/60000 [==============================] - 8s - loss: 0.0957 - val_loss: 0.0952\n",
      "Epoch 48/100\n",
      "60000/60000 [==============================] - 8s - loss: 0.0957 - val_loss: 0.0954\n",
      "Epoch 49/100\n",
      "60000/60000 [==============================] - 8s - loss: 0.0957 - val_loss: 0.0954\n",
      "Epoch 50/100\n",
      "60000/60000 [==============================] - 8s - loss: 0.0957 - val_loss: 0.0954\n",
      "Epoch 51/100\n",
      "60000/60000 [==============================] - 8s - loss: 0.0955 - val_loss: 0.0948\n",
      "Epoch 52/100\n",
      "60000/60000 [==============================] - 8s - loss: 0.0956 - val_loss: 0.0951\n",
      "Epoch 53/100\n",
      "60000/60000 [==============================] - 8s - loss: 0.0955 - val_loss: 0.0951\n",
      "Epoch 54/100\n",
      "60000/60000 [==============================] - 8s - loss: 0.0955 - val_loss: 0.0951\n",
      "Epoch 55/100\n",
      "60000/60000 [==============================] - 8s - loss: 0.0955 - val_loss: 0.0948\n",
      "Epoch 56/100\n",
      "60000/60000 [==============================] - 8s - loss: 0.0954 - val_loss: 0.0955\n",
      "Epoch 57/100\n",
      "60000/60000 [==============================] - 8s - loss: 0.0954 - val_loss: 0.0950\n",
      "Epoch 58/100\n",
      "60000/60000 [==============================] - 8s - loss: 0.0953 - val_loss: 0.0955\n",
      "Epoch 59/100\n",
      "60000/60000 [==============================] - 8s - loss: 0.0952 - val_loss: 0.0947\n",
      "Epoch 60/100\n",
      "60000/60000 [==============================] - 8s - loss: 0.0953 - val_loss: 0.0947\n",
      "Epoch 61/100\n",
      "60000/60000 [==============================] - 8s - loss: 0.0952 - val_loss: 0.0947\n",
      "Epoch 62/100\n",
      "60000/60000 [==============================] - 8s - loss: 0.0952 - val_loss: 0.0945\n",
      "Epoch 63/100\n",
      "60000/60000 [==============================] - 8s - loss: 0.0952 - val_loss: 0.0945\n",
      "Epoch 64/100\n",
      "60000/60000 [==============================] - 8s - loss: 0.0952 - val_loss: 0.0945\n",
      "Epoch 65/100\n",
      "60000/60000 [==============================] - 8s - loss: 0.0950 - val_loss: 0.0954\n",
      "Epoch 66/100\n",
      "60000/60000 [==============================] - 8s - loss: 0.0951 - val_loss: 0.0945\n",
      "Epoch 67/100\n",
      "60000/60000 [==============================] - 8s - loss: 0.0951 - val_loss: 0.0946\n",
      "Epoch 68/100\n",
      "60000/60000 [==============================] - 8s - loss: 0.0950 - val_loss: 0.0951\n",
      "Epoch 69/100\n",
      "60000/60000 [==============================] - 8s - loss: 0.0950 - val_loss: 0.0952\n",
      "Epoch 70/100\n",
      "60000/60000 [==============================] - 8s - loss: 0.0949 - val_loss: 0.0948\n",
      "Epoch 71/100\n",
      "60000/60000 [==============================] - 8s - loss: 0.0949 - val_loss: 0.0958\n",
      "Epoch 72/100\n",
      "60000/60000 [==============================] - 8s - loss: 0.0949 - val_loss: 0.0953\n",
      "Epoch 73/100\n",
      "60000/60000 [==============================] - 8s - loss: 0.0949 - val_loss: 0.0942\n",
      "Epoch 74/100\n",
      "60000/60000 [==============================] - 8s - loss: 0.0948 - val_loss: 0.0946\n",
      "Epoch 75/100\n",
      "60000/60000 [==============================] - 8s - loss: 0.0948 - val_loss: 0.0942\n",
      "Epoch 76/100\n",
      "60000/60000 [==============================] - 8s - loss: 0.0948 - val_loss: 0.0945\n",
      "Epoch 77/100\n",
      "60000/60000 [==============================] - 8s - loss: 0.0948 - val_loss: 0.0944\n",
      "Epoch 78/100\n",
      "60000/60000 [==============================] - 8s - loss: 0.0948 - val_loss: 0.0942\n",
      "Epoch 79/100\n",
      "60000/60000 [==============================] - 8s - loss: 0.0947 - val_loss: 0.0944\n",
      "Epoch 80/100\n",
      "60000/60000 [==============================] - 8s - loss: 0.0947 - val_loss: 0.0942\n",
      "Epoch 81/100\n",
      "60000/60000 [==============================] - 8s - loss: 0.0946 - val_loss: 0.0943\n",
      "Epoch 82/100\n",
      "60000/60000 [==============================] - 8s - loss: 0.0946 - val_loss: 0.0942\n",
      "Epoch 83/100\n",
      "60000/60000 [==============================] - 8s - loss: 0.0946 - val_loss: 0.0941\n",
      "Epoch 84/100\n",
      "60000/60000 [==============================] - 8s - loss: 0.0947 - val_loss: 0.0940\n",
      "Epoch 85/100\n"
     ]
    },
    {
     "name": "stdout",
     "output_type": "stream",
     "text": [
      "60000/60000 [==============================] - 8s - loss: 0.0946 - val_loss: 0.0941\n",
      "Epoch 86/100\n",
      "60000/60000 [==============================] - 8s - loss: 0.0945 - val_loss: 0.0941\n",
      "Epoch 87/100\n",
      "60000/60000 [==============================] - 8s - loss: 0.0946 - val_loss: 0.0945\n",
      "Epoch 88/100\n",
      "60000/60000 [==============================] - 8s - loss: 0.0945 - val_loss: 0.0944\n",
      "Epoch 89/100\n",
      "60000/60000 [==============================] - 8s - loss: 0.0945 - val_loss: 0.0944\n",
      "Epoch 90/100\n",
      "60000/60000 [==============================] - 8s - loss: 0.0945 - val_loss: 0.0941\n",
      "Epoch 91/100\n",
      "60000/60000 [==============================] - 8s - loss: 0.0945 - val_loss: 0.0939\n",
      "Epoch 92/100\n",
      "60000/60000 [==============================] - 8s - loss: 0.0944 - val_loss: 0.0946\n",
      "Epoch 93/100\n",
      "60000/60000 [==============================] - 8s - loss: 0.0944 - val_loss: 0.0941\n",
      "Epoch 94/100\n",
      "60000/60000 [==============================] - 8s - loss: 0.0944 - val_loss: 0.0939\n",
      "Epoch 95/100\n",
      "60000/60000 [==============================] - 8s - loss: 0.0944 - val_loss: 0.0941\n",
      "Epoch 96/100\n",
      "60000/60000 [==============================] - 8s - loss: 0.0944 - val_loss: 0.0939\n",
      "Epoch 97/100\n",
      "60000/60000 [==============================] - 8s - loss: 0.0944 - val_loss: 0.0939\n",
      "Epoch 98/100\n",
      "60000/60000 [==============================] - 8s - loss: 0.0943 - val_loss: 0.0939\n",
      "Epoch 99/100\n",
      "60000/60000 [==============================] - 8s - loss: 0.0944 - val_loss: 0.0941\n",
      "Epoch 100/100\n",
      "60000/60000 [==============================] - 8s - loss: 0.0943 - val_loss: 0.0938\n"
     ]
    },
    {
     "data": {
      "text/plain": [
       "<keras.callbacks.History at 0x7fb45ad95f28>"
      ]
     },
     "execution_count": 13,
     "metadata": {},
     "output_type": "execute_result"
    }
   ],
   "source": [
    "autoencoder.fit(x_train_noisy, x_train,\n",
    "                epochs=100,\n",
    "                batch_size=128,\n",
    "                shuffle=True,\n",
    "                validation_data=(x_test_noisy, x_test),\n",
    "                callbacks=[TensorBoard(log_dir='/tmp/autoencoder_denoise', \n",
    "                                       histogram_freq=0, write_graph=False)])"
   ]
  },
  {
   "cell_type": "markdown",
   "metadata": {},
   "source": [
    "### Now Let's Take a look...."
   ]
  },
  {
   "cell_type": "code",
   "execution_count": 14,
   "metadata": {},
   "outputs": [
    {
     "data": {
      "image/png": "iVBORw0KGgoAAAANSUhEUgAABHEAAADqCAYAAAAlBtnSAAAABHNCSVQICAgIfAhkiAAAAAlwSFlz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\nrkJggg==\n",
      "text/plain": [
       "<matplotlib.figure.Figure at 0x7fb459cdee48>"
      ]
     },
     "metadata": {},
     "output_type": "display_data"
    }
   ],
   "source": [
    "decoded_imgs = autoencoder.predict(x_test_noisy)\n",
    "\n",
    "n = 10\n",
    "plt.figure(figsize=(20, 4))\n",
    "for i in range(n):\n",
    "    # display original\n",
    "    ax = plt.subplot(2, n, i+1)\n",
    "    plt.imshow(x_test[i].reshape(28, 28))\n",
    "    plt.gray()\n",
    "    ax.get_xaxis().set_visible(False)\n",
    "    ax.get_yaxis().set_visible(False)\n",
    "\n",
    "    # display reconstruction\n",
    "    ax = plt.subplot(2, n, i + n + 1)\n",
    "    plt.imshow(decoded_imgs[i].reshape(28, 28))\n",
    "    plt.gray()\n",
    "    ax.get_xaxis().set_visible(False)\n",
    "    ax.get_yaxis().set_visible(False)\n",
    "plt.show()"
   ]
  },
  {
  
